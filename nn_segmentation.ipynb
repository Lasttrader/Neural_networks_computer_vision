{
  "nbformat": 4,
  "nbformat_minor": 0,
  "metadata": {
    "colab": {
      "name": "nn_segmentation",
      "version": "0.3.2",
      "provenance": [],
      "collapsed_sections": [],
      "include_colab_link": true
    },
    "kernelspec": {
      "name": "python3",
      "display_name": "Python 3"
    }
  },
  "cells": [
    {
      "cell_type": "markdown",
      "metadata": {
        "id": "view-in-github",
        "colab_type": "text"
      },
      "source": [
        "<a href=\"https://colab.research.google.com/github/Lasttrader/Neural_networks_computer_vision/blob/master/nn_segmentation.ipynb\" target=\"_parent\"><img src=\"https://colab.research.google.com/assets/colab-badge.svg\" alt=\"Open In Colab\"/></a>"
      ]
    },
    {
      "cell_type": "code",
      "metadata": {
        "id": "0hyWYiPqLdez",
        "colab_type": "code",
        "outputId": "1fc7fdc0-1b14-4000-ecdd-d08adb0581f5",
        "colab": {
          "base_uri": "https://localhost:8080/",
          "height": 36
        }
      },
      "source": [
        "from keras.models import Model\n",
        "from keras.datasets import mnist\n",
        "from keras.layers import Input, Conv2DTranspose, concatenate, Activation, MaxPooling2D, Conv2D, BatchNormalization\n",
        "from keras import backend as K\n",
        "from keras.optimizers import Adam\n",
        "from tensorflow.keras import utils\n",
        "from google.colab import files\n",
        "import matplotlib.pyplot as plt\n",
        "from tensorflow.keras.preprocessing import image\n",
        "import numpy as np\n",
        "from PIL import Image\n",
        "\n",
        "def dice_coef(y_true, y_pred):\n",
        "    return (2. * K.sum(y_true * y_pred) + 1.) / (K.sum(y_true) + K.sum(y_pred) + 1.)\n"
      ],
      "execution_count": 0,
      "outputs": [
        {
          "output_type": "stream",
          "text": [
            "Using TensorFlow backend.\n"
          ],
          "name": "stderr"
        }
      ]
    },
    {
      "cell_type": "markdown",
      "metadata": {
        "id": "oxHD9MO-sM_u",
        "colab_type": "text"
      },
      "source": [
        "#Загружаем картинки"
      ]
    },
    {
      "cell_type": "code",
      "metadata": {
        "id": "X4fDh8rBxcmk",
        "colab_type": "code",
        "outputId": "13f74da2-d743-4c1b-94a0-e5bc474dbe52",
        "colab": {
          "base_uri": "https://localhost:8080/",
          "height": 36
        }
      },
      "source": [
        "!ls"
      ],
      "execution_count": 0,
      "outputs": [
        {
          "output_type": "stream",
          "text": [
            "sample_data\n"
          ],
          "name": "stdout"
        }
      ]
    },
    {
      "cell_type": "code",
      "metadata": {
        "id": "eix0wwz4L0s_",
        "colab_type": "code",
        "outputId": "f7215adc-5ee2-4e27-abe8-5946d53aec7e",
        "colab": {
          "resources": {
            "http://localhost:8080/nbextensions/google.colab/files.js": {
              "data": "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",
              "ok": true,
              "headers": [
                [
                  "content-type",
                  "application/javascript"
                ]
              ],
              "status": 200,
              "status_text": "OK"
            }
          },
          "base_uri": "https://localhost:8080/",
          "height": 530
        }
      },
      "source": [
        "files.upload()\n",
        "!ls"
      ],
      "execution_count": 0,
      "outputs": [
        {
          "output_type": "display_data",
          "data": {
            "text/html": [
              "\n",
              "     <input type=\"file\" id=\"files-042b8556-1342-4dd1-917f-e7cb86a87296\" name=\"files[]\" multiple disabled />\n",
              "     <output id=\"result-042b8556-1342-4dd1-917f-e7cb86a87296\">\n",
              "      Upload widget is only available when the cell has been executed in the\n",
              "      current browser session. Please rerun this cell to enable.\n",
              "      </output>\n",
              "      <script src=\"/nbextensions/google.colab/files.js\"></script> "
            ],
            "text/plain": [
              "<IPython.core.display.HTML object>"
            ]
          },
          "metadata": {
            "tags": []
          }
        },
        {
          "output_type": "stream",
          "text": [
            "Saving 0001TP_006690.png to 0001TP_006690 (1).png\n",
            "Saving 0001TP_006720.png to 0001TP_006720 (1).png\n",
            "Saving 0001TP_006750.png to 0001TP_006750 (1).png\n",
            "Saving 0001TP_006780.png to 0001TP_006780 (1).png\n",
            "Saving 0001TP_006810.png to 0001TP_006810 (1).png\n",
            "Saving 0001TP_006840.png to 0001TP_006840 (1).png\n",
            "Saving 0001TP_006870.png to 0001TP_006870 (1).png\n",
            "Saving 0001TP_006900.png to 0001TP_006900 (1).png\n",
            "Saving 0001TP_006930.png to 0001TP_006930 (1).png\n",
            "Saving 0001TP_006960.png to 0001TP_006960 (1).png\n",
            "'0001TP_006690 (1).png'   0001TP_006780.png\t  '0001TP_006900 (1).png'\n",
            " 0001TP_006690.png\t '0001TP_006810 (1).png'   0001TP_006900.png\n",
            "'0001TP_006720 (1).png'   0001TP_006810.png\t  '0001TP_006930 (1).png'\n",
            " 0001TP_006720.png\t '0001TP_006840 (1).png'   0001TP_006930.png\n",
            "'0001TP_006750 (1).png'   0001TP_006840.png\t  '0001TP_006960 (1).png'\n",
            " 0001TP_006750.png\t '0001TP_006870 (1).png'   0001TP_006960.png\n",
            "'0001TP_006780 (1).png'   0001TP_006870.png\t   sample_data\n"
          ],
          "name": "stdout"
        }
      ]
    },
    {
      "cell_type": "code",
      "metadata": {
        "id": "MRDvv0-DQHwT",
        "colab_type": "code",
        "colab": {}
      },
      "source": [
        "images = []\n",
        "\n",
        "images.append(image.load_img('0001TP_006690.png', target_size=(352, 480)))\n",
        "images.append(image.load_img('0001TP_006720.png', target_size=(352, 480)))\n",
        "images.append(image.load_img('0001TP_006750.png', target_size=(352, 480)))\n",
        "images.append(image.load_img('0001TP_006780.png', target_size=(352, 480)))\n",
        "images.append(image.load_img('0001TP_006810.png', target_size=(352, 480)))\n",
        "images.append(image.load_img('0001TP_006840.png', target_size=(352, 480)))\n",
        "images.append(image.load_img('0001TP_006870.png', target_size=(352, 480)))\n",
        "images.append(image.load_img('0001TP_006900.png', target_size=(352, 480)))\n",
        "images.append(image.load_img('0001TP_006930.png', target_size=(352, 480)))\n",
        "images.append(image.load_img('0001TP_006960.png', target_size=(352, 480)))"
      ],
      "execution_count": 0,
      "outputs": []
    },
    {
      "cell_type": "code",
      "metadata": {
        "id": "_A0a9pZxQeQM",
        "colab_type": "code",
        "outputId": "5c0105b3-11ac-45e4-e9f0-6ce4463cdf66",
        "colab": {
          "base_uri": "https://localhost:8080/",
          "height": 269
        }
      },
      "source": [
        "plt.imshow(images[0].convert('RGBA'))\n",
        "plt.show()"
      ],
      "execution_count": 0,
      "outputs": [
        {
          "output_type": "display_data",
          "data": {
            "image/png": "[encoded data removed]",
            "text/plain": [
              "<Figure size 432x288 with 1 Axes>"
            ]
          },
          "metadata": {
            "tags": []
          }
        }
      ]
    },
    {
      "cell_type": "code",
      "metadata": {
        "id": "JYren23pQ-Hc",
        "colab_type": "code",
        "colab": {}
      },
      "source": [
        "segments = []\n",
        "\n",
        "segments.append(image.load_img('0001TP_006690 (1).png', target_size=(352, 480)))\n",
        "segments.append(image.load_img('0001TP_006720 (1).png', target_size=(352, 480)))\n",
        "segments.append(image.load_img('0001TP_006750 (1).png', target_size=(352, 480)))\n",
        "segments.append(image.load_img('0001TP_006780 (1).png', target_size=(352, 480)))\n",
        "segments.append(image.load_img('0001TP_006810 (1).png', target_size=(352, 480)))\n",
        "segments.append(image.load_img('0001TP_006840 (1).png', target_size=(352, 480)))\n",
        "segments.append(image.load_img('0001TP_006870 (1).png', target_size=(352, 480)))\n",
        "segments.append(image.load_img('0001TP_006900 (1).png', target_size=(352, 480)))\n",
        "segments.append(image.load_img('0001TP_006930 (1).png', target_size=(352, 480)))\n",
        "segments.append(image.load_img('0001TP_006960 (1).png', target_size=(352, 480)))"
      ],
      "execution_count": 0,
      "outputs": []
    },
    {
      "cell_type": "code",
      "metadata": {
        "id": "tzRS1IHyRIQz",
        "colab_type": "code",
        "outputId": "7a609fc3-47be-4114-e9c1-b28f6bbbb9c7",
        "colab": {
          "base_uri": "https://localhost:8080/",
          "height": 269
        }
      },
      "source": [
        "plt.imshow(segments[0].convert('RGBA'))\n",
        "plt.show()"
      ],
      "execution_count": 0,
      "outputs": [
        {
          "output_type": "display_data",
          "data": {
            "image/png": "[encoded data removed]",
            "text/plain": [
              "<Figure size 432x288 with 1 Axes>"
            ]
          },
          "metadata": {
            "tags": []
          }
        }
      ]
    },
    {
      "cell_type": "markdown",
      "metadata": {
        "id": "Cf2NRmzZ4x0g",
        "colab_type": "text"
      },
      "source": [
        "#Загружаем уменьшенные картинки"
      ]
    },
    {
      "cell_type": "code",
      "metadata": {
        "id": "Xh0mZIUh4wvQ",
        "colab_type": "code",
        "colab": {}
      },
      "source": [
        "images = []\n",
        "\n",
        "images.append(image.load_img('0001TP_006690.png', target_size=(88, 120)))\n",
        "images.append(image.load_img('0001TP_006720.png', target_size=(88, 120)))\n",
        "images.append(image.load_img('0001TP_006750.png', target_size=(88, 120)))\n",
        "images.append(image.load_img('0001TP_006780.png', target_size=(88, 120)))\n",
        "images.append(image.load_img('0001TP_006810.png', target_size=(88, 120)))\n",
        "images.append(image.load_img('0001TP_006840.png', target_size=(88, 120)))\n",
        "images.append(image.load_img('0001TP_006870.png', target_size=(88, 120)))\n",
        "images.append(image.load_img('0001TP_006900.png', target_size=(88, 120)))\n",
        "images.append(image.load_img('0001TP_006930.png', target_size=(88, 120)))\n",
        "images.append(image.load_img('0001TP_006960.png', target_size=(88, 120)))"
      ],
      "execution_count": 0,
      "outputs": []
    },
    {
      "cell_type": "code",
      "metadata": {
        "id": "jiP1RM2G49TY",
        "colab_type": "code",
        "outputId": "f7c838d6-e22e-404d-802e-851c23c36e2b",
        "colab": {
          "base_uri": "https://localhost:8080/",
          "height": 269
        }
      },
      "source": [
        "plt.imshow(images[9].convert('RGBA'))\n",
        "plt.show()"
      ],
      "execution_count": 0,
      "outputs": [
        {
          "output_type": "display_data",
          "data": {
            "image/png": "[encoded data removed]",
            "text/plain": [
              "<Figure size 432x288 with 1 Axes>"
            ]
          },
          "metadata": {
            "tags": []
          }
        }
      ]
    },
    {
      "cell_type": "code",
      "metadata": {
        "id": "LAbAcQCm5AMU",
        "colab_type": "code",
        "colab": {}
      },
      "source": [
        "segments = []\n",
        "\n",
        "segments.append(image.load_img('0001TP_006690 (1).png', target_size=(88, 120)))\n",
        "segments.append(image.load_img('0001TP_006720 (1).png', target_size=(88, 120)))\n",
        "segments.append(image.load_img('0001TP_006750 (1).png', target_size=(88, 120)))\n",
        "segments.append(image.load_img('0001TP_006780 (1).png', target_size=(88, 120)))\n",
        "segments.append(image.load_img('0001TP_006810 (1).png', target_size=(88, 120)))\n",
        "segments.append(image.load_img('0001TP_006840 (1).png', target_size=(88, 120)))\n",
        "segments.append(image.load_img('0001TP_006870 (1).png', target_size=(88, 120)))\n",
        "segments.append(image.load_img('0001TP_006900 (1).png', target_size=(88, 120)))\n",
        "segments.append(image.load_img('0001TP_006930 (1).png', target_size=(88, 120)))\n",
        "segments.append(image.load_img('0001TP_006960 (1).png', target_size=(88, 120)))"
      ],
      "execution_count": 0,
      "outputs": []
    },
    {
      "cell_type": "code",
      "metadata": {
        "id": "Rc9GrI0C5G-6",
        "colab_type": "code",
        "outputId": "cadadc7a-edc2-4150-ce65-6c99e67fbf3b",
        "colab": {
          "base_uri": "https://localhost:8080/",
          "height": 269
        }
      },
      "source": [
        "plt.imshow(segments[0].convert('RGBA'))\n",
        "plt.show()"
      ],
      "execution_count": 0,
      "outputs": [
        {
          "output_type": "display_data",
          "data": {
            "image/png": "[encoded data removed]",
            "text/plain": [
              "<Figure size 432x288 with 1 Axes>"
            ]
          },
          "metadata": {
            "tags": []
          }
        }
      ]
    },
    {
      "cell_type": "markdown",
      "metadata": {
        "id": "9PBaLEFrsVdA",
        "colab_type": "text"
      },
      "source": [
        "#Создаём обучающую выборку"
      ]
    },
    {
      "cell_type": "code",
      "metadata": {
        "id": "cllzV4CWQkCX",
        "colab_type": "code",
        "colab": {}
      },
      "source": [
        "xTrain = []\n",
        "\n",
        "for img in images:\n",
        "  x = image.img_to_array(img)\n",
        "  xTrain.append(x)\n",
        "\n",
        "xTrain = np.array(xTrain)"
      ],
      "execution_count": 0,
      "outputs": []
    },
    {
      "cell_type": "code",
      "metadata": {
        "id": "bDxcAnq7QtSp",
        "colab_type": "code",
        "outputId": "401d62e0-62ca-46b4-8d0c-30c9bdd0c701",
        "colab": {
          "base_uri": "https://localhost:8080/",
          "height": 36
        }
      },
      "source": [
        "print(xTrain.shape)"
      ],
      "execution_count": 0,
      "outputs": [
        {
          "output_type": "stream",
          "text": [
            "(10, 88, 120, 3)\n"
          ],
          "name": "stdout"
        }
      ]
    },
    {
      "cell_type": "code",
      "metadata": {
        "id": "NZo7ZyPZRUG4",
        "colab_type": "code",
        "colab": {}
      },
      "source": [
        "yTrain = []\n",
        "\n",
        "for seg in segments:\n",
        "  y = image.img_to_array(seg)\n",
        "  yTrain.append(y)\n",
        "\n",
        "yTrain = np.array(yTrain)"
      ],
      "execution_count": 0,
      "outputs": []
    },
    {
      "cell_type": "markdown",
      "metadata": {
        "id": "pszQXMDwsZKg",
        "colab_type": "text"
      },
      "source": [
        "**Раскрашиваем сегментированную картинку**"
      ]
    },
    {
      "cell_type": "code",
      "metadata": {
        "id": "xGbNNU9mss5w",
        "colab_type": "code",
        "colab": {}
      },
      "source": [
        "def index2Color(index):\n",
        "  \n",
        "  color = (0,0,0)\n",
        "  if (index == 0): color = (200, 0, 0)\n",
        "  if (index == 1): color = (0, 200, 0)\n",
        "  if (index == 2): color = (0, 0, 200)\n",
        "  if (index == 3): color = (200, 200, 0)\n",
        "  if (index == 4): color = (200, 0, 200)\n",
        "  if (index == 5): color = (0, 200, 0)\n",
        "  if (index == 6): color = (200, 200, 200)\n",
        "  if (index == 7): color = (100, 0, 0)\n",
        "  if (index == 8): color = (0, 100, 0)\n",
        "  if (index == 9): color = (0, 0, 100)\n",
        "  if (index == 10): color = (100, 100, 0)\n",
        "  if (index == 11): color = (0, 100, 100)\n",
        "    \n",
        "  return color"
      ],
      "execution_count": 0,
      "outputs": []
    },
    {
      "cell_type": "code",
      "metadata": {
        "id": "JgRm7VmOp17w",
        "colab_type": "code",
        "colab": {}
      },
      "source": [
        "outY = []\n",
        "\n",
        "for pr in yTrain:\n",
        "  currPr = pr.copy()\n",
        "  currMatr = []\n",
        "  for i in range(currPr.shape[0]):\n",
        "    currStr = []\n",
        "    for j in range(currPr.shape[1]):\n",
        "      currStr.append(index2Color(currPr[i][j][0]))\n",
        "    currMatr.append(currStr)\n",
        "  outY.append(currMatr)\n",
        "\n",
        "outY = np.array(outY)\n",
        "outY = outY.astype('uint8')"
      ],
      "execution_count": 0,
      "outputs": []
    },
    {
      "cell_type": "code",
      "metadata": {
        "id": "by1vcel-qCTY",
        "colab_type": "code",
        "outputId": "5cd8c50f-2320-41f4-a6b3-2cbdfc56a09b",
        "colab": {
          "base_uri": "https://localhost:8080/",
          "height": 521
        }
      },
      "source": [
        "n = 0\n",
        "plt.imshow(segments[n].convert('RGBA'))\n",
        "plt.show()\n",
        "img = Image.fromarray(outY[n])\n",
        "plt.imshow(img.convert('RGBA'))\n",
        "plt.show()"
      ],
      "execution_count": 0,
      "outputs": [
        {
          "output_type": "display_data",
          "data": {
            "image/png": "[encoded data removed]",
            "text/plain": [
              "<Figure size 432x288 with 1 Axes>"
            ]
          },
          "metadata": {
            "tags": []
          }
        },
        {
          "output_type": "display_data",
          "data": {
            "image/png": "[encoded data removed]",
            "text/plain": [
              "<Figure size 432x288 with 1 Axes>"
            ]
          },
          "metadata": {
            "tags": []
          }
        }
      ]
    },
    {
      "cell_type": "markdown",
      "metadata": {
        "id": "gDVilj2bsfnh",
        "colab_type": "text"
      },
      "source": [
        "**Превращаем сегментированную картинку в 12 классов One hot encoding**"
      ]
    },
    {
      "cell_type": "code",
      "metadata": {
        "id": "0kh26wyoVdkf",
        "colab_type": "code",
        "colab": {}
      },
      "source": [
        "yTrain12 = []\n",
        "for t in range(yTrain.shape[0]):\n",
        "  yy = yTrain[t].copy()\n",
        "  yyNew = []\n",
        "\n",
        "  for i in range(yy.shape[0]):\n",
        "    currYYstr = []\n",
        "    for j in range(yy.shape[1]):\n",
        "      currYYstr.append(utils.to_categorical(yy[i][j][0], 12))\n",
        "    yyNew.append(currYYstr)\n",
        "\n",
        "  yyNew = np.array(yyNew)\n",
        "  yTrain12.append(yyNew)\n",
        "\n",
        "yTrain12 = np.array(yTrain12)"
      ],
      "execution_count": 0,
      "outputs": []
    },
    {
      "cell_type": "code",
      "metadata": {
        "id": "7WnRwpvSXQkq",
        "colab_type": "code",
        "outputId": "ed9c8f6f-0a48-4209-9b58-b316101047ac",
        "colab": {
          "base_uri": "https://localhost:8080/",
          "height": 53
        }
      },
      "source": [
        "print(xTrain.shape)\n",
        "print(yTrain12.shape)"
      ],
      "execution_count": 0,
      "outputs": [
        {
          "output_type": "stream",
          "text": [
            "(10, 88, 120, 3)\n",
            "(10, 88, 120, 12)\n"
          ],
          "name": "stdout"
        }
      ]
    },
    {
      "cell_type": "markdown",
      "metadata": {
        "id": "KmKlyLo5ofhf",
        "colab_type": "text"
      },
      "source": [
        "#Уменьшенная выборка на 3 класса"
      ]
    },
    {
      "cell_type": "code",
      "metadata": {
        "id": "MkfixPm568te",
        "colab_type": "code",
        "colab": {}
      },
      "source": [
        "yTrain3 = []\n",
        "for t in range(yTrain.shape[0]):\n",
        "  yy = yTrain[t].copy()\n",
        "  yyNew = []\n",
        "\n",
        "  for i in range(yy.shape[0]):\n",
        "    currYYstr = []\n",
        "    for j in range(yy.shape[1]):\n",
        "      data = min(2, yy[i][j][0])\n",
        "      currYYstr.append(utils.to_categorical(data, 3))\n",
        "    yyNew.append(currYYstr)\n",
        "\n",
        "  yyNew = np.array(yyNew)\n",
        "  yTrain3.append(yyNew)\n",
        "\n",
        "yTrain3 = np.array(yTrain3)"
      ],
      "execution_count": 0,
      "outputs": []
    },
    {
      "cell_type": "code",
      "metadata": {
        "id": "n1NvyJq_7ELj",
        "colab_type": "code",
        "outputId": "b79fa124-80d5-4e35-8836-81436593cc65",
        "colab": {
          "base_uri": "https://localhost:8080/",
          "height": 35
        }
      },
      "source": [
        "print(yTrain3.shape)"
      ],
      "execution_count": 0,
      "outputs": [
        {
          "output_type": "stream",
          "text": [
            "(10, 88, 120, 3)\n"
          ],
          "name": "stdout"
        }
      ]
    },
    {
      "cell_type": "code",
      "metadata": {
        "id": "GnJlMm4P7IwW",
        "colab_type": "code",
        "colab": {}
      },
      "source": [
        "outY3 = []\n",
        "\n",
        "for pr in yTrain3:\n",
        "  currPr = pr.copy()\n",
        "  currMatr = []\n",
        "  for i in range(currPr.shape[0]):\n",
        "    currStr = []\n",
        "    for j in range(currPr.shape[1]):\n",
        "      currStr.append(index2Color(np.argmax(currPr[i][j])))\n",
        "    currMatr.append(currStr)\n",
        "  outY3.append(currMatr)\n",
        "\n",
        "outY3 = np.array(outY3)\n",
        "outY3 = outY3.astype('uint8')"
      ],
      "execution_count": 0,
      "outputs": []
    },
    {
      "cell_type": "code",
      "metadata": {
        "id": "9wCvthky7T5H",
        "colab_type": "code",
        "outputId": "615a17e1-0016-4120-d3ca-ba174fc29e7b",
        "colab": {
          "base_uri": "https://localhost:8080/",
          "height": 269
        }
      },
      "source": [
        "n = 9\n",
        "img = Image.fromarray(outY3[n])\n",
        "plt.imshow(img.convert('RGBA'))\n",
        "plt.show()"
      ],
      "execution_count": 0,
      "outputs": [
        {
          "output_type": "display_data",
          "data": {
            "image/png": "[encoded data removed]",
            "text/plain": [
              "<Figure size 432x288 with 1 Axes>"
            ]
          },
          "metadata": {
            "tags": []
          }
        }
      ]
    },
    {
      "cell_type": "markdown",
      "metadata": {
        "id": "saboeG1-lT-X",
        "colab_type": "text"
      },
      "source": [
        "#Линейная сегментирующая сеть"
      ]
    },
    {
      "cell_type": "code",
      "metadata": {
        "id": "dJEhXlIDlTgN",
        "colab_type": "code",
        "colab": {}
      },
      "source": [
        "def linearUnet(num_classes = 6, input_shape= (352, 480, 3)):\n",
        "    img_input = Input(input_shape)\n",
        "\n",
        "    # Block 1\n",
        "    x = Conv2D(32, (3, 3), padding='same', name='block1_conv1')(img_input)\n",
        "    x = BatchNormalization()(x)\n",
        "    x = Activation('relu')(x)\n",
        "\n",
        "    x = Conv2D(32, (3, 3), padding='same', name='block1_conv2')(x)\n",
        "    x = BatchNormalization()(x)\n",
        "    x = Activation('relu')(x)\n",
        "\n",
        "    x = Conv2D(num_classes, (3, 3), activation='softmax', padding='same')(x)\n",
        "\n",
        "    model = Model(img_input, x)\n",
        "    model.compile(optimizer=Adam(lr=1e-3),\n",
        "                  loss='categorical_crossentropy',\n",
        "                  metrics=[dice_coef])\n",
        "    return model"
      ],
      "execution_count": 0,
      "outputs": []
    },
    {
      "cell_type": "code",
      "metadata": {
        "id": "g7AQ2g-yljo-",
        "colab_type": "code",
        "outputId": "ae6458fd-9ee0-47dd-8307-17e4f90d29fe",
        "colab": {
          "base_uri": "https://localhost:8080/",
          "height": 1000
        }
      },
      "source": [
        "modelL = linearUnet(3, (88, 120, 3))\n",
        "history = modelL.fit(xTrain[:8], yTrain3[:8], epochs=30, batch_size=5, validation_data=(xTrain[8:], yTrain3[8:]))"
      ],
      "execution_count": 0,
      "outputs": [
        {
          "output_type": "stream",
          "text": [
            "WARNING: Logging before flag parsing goes to stderr.\n",
            "W0720 10:10:58.200729 139699055748992 deprecation_wrapper.py:119] From /usr/local/lib/python3.6/dist-packages/keras/backend/tensorflow_backend.py:74: The name tf.get_default_graph is deprecated. Please use tf.compat.v1.get_default_graph instead.\n",
            "\n",
            "W0720 10:10:58.250851 139699055748992 deprecation_wrapper.py:119] From /usr/local/lib/python3.6/dist-packages/keras/backend/tensorflow_backend.py:517: The name tf.placeholder is deprecated. Please use tf.compat.v1.placeholder instead.\n",
            "\n",
            "W0720 10:10:58.261456 139699055748992 deprecation_wrapper.py:119] From /usr/local/lib/python3.6/dist-packages/keras/backend/tensorflow_backend.py:4138: The name tf.random_uniform is deprecated. Please use tf.random.uniform instead.\n",
            "\n",
            "W0720 10:10:58.338666 139699055748992 deprecation_wrapper.py:119] From /usr/local/lib/python3.6/dist-packages/keras/backend/tensorflow_backend.py:174: The name tf.get_default_session is deprecated. Please use tf.compat.v1.get_default_session instead.\n",
            "\n",
            "W0720 10:10:58.340030 139699055748992 deprecation_wrapper.py:119] From /usr/local/lib/python3.6/dist-packages/keras/backend/tensorflow_backend.py:181: The name tf.ConfigProto is deprecated. Please use tf.compat.v1.ConfigProto instead.\n",
            "\n",
            "W0720 10:10:58.640460 139699055748992 deprecation_wrapper.py:119] From /usr/local/lib/python3.6/dist-packages/keras/backend/tensorflow_backend.py:1834: The name tf.nn.fused_batch_norm is deprecated. Please use tf.compat.v1.nn.fused_batch_norm instead.\n",
            "\n",
            "W0720 10:10:58.878246 139699055748992 deprecation_wrapper.py:119] From /usr/local/lib/python3.6/dist-packages/keras/optimizers.py:790: The name tf.train.Optimizer is deprecated. Please use tf.compat.v1.train.Optimizer instead.\n",
            "\n",
            "W0720 10:10:59.013073 139699055748992 deprecation.py:323] From /usr/local/lib/python3.6/dist-packages/tensorflow/python/ops/math_grad.py:1250: add_dispatch_support.<locals>.wrapper (from tensorflow.python.ops.array_ops) is deprecated and will be removed in a future version.\n",
            "Instructions for updating:\n",
            "Use tf.where in 2.0, which has the same broadcast rule as np.where\n"
          ],
          "name": "stderr"
        },
        {
          "output_type": "stream",
          "text": [
            "Train on 8 samples, validate on 2 samples\n",
            "Epoch 1/30\n",
            "8/8 [==============================] - 1s 184ms/step - loss: 1.3251 - dice_coef: 0.3582 - val_loss: 0.9220 - val_dice_coef: 0.4501\n",
            "Epoch 2/30\n",
            "8/8 [==============================] - 1s 76ms/step - loss: 0.9210 - dice_coef: 0.4525 - val_loss: 0.8056 - val_dice_coef: 0.5260\n",
            "Epoch 3/30\n",
            "8/8 [==============================] - 1s 74ms/step - loss: 0.7464 - dice_coef: 0.5320 - val_loss: 0.8395 - val_dice_coef: 0.5358\n",
            "Epoch 4/30\n",
            "8/8 [==============================] - 1s 79ms/step - loss: 0.6715 - dice_coef: 0.5692 - val_loss: 0.8991 - val_dice_coef: 0.5285\n",
            "Epoch 5/30\n",
            "8/8 [==============================] - 1s 75ms/step - loss: 0.6284 - dice_coef: 0.5893 - val_loss: 0.9543 - val_dice_coef: 0.5164\n",
            "Epoch 6/30\n",
            "8/8 [==============================] - 1s 71ms/step - loss: 0.5915 - dice_coef: 0.6056 - val_loss: 0.9933 - val_dice_coef: 0.5085\n",
            "Epoch 7/30\n",
            "8/8 [==============================] - 1s 75ms/step - loss: 0.5634 - dice_coef: 0.6192 - val_loss: 1.0093 - val_dice_coef: 0.5065\n",
            "Epoch 8/30\n",
            "8/8 [==============================] - 1s 72ms/step - loss: 0.5420 - dice_coef: 0.6303 - val_loss: 1.0010 - val_dice_coef: 0.5106\n",
            "Epoch 9/30\n",
            "8/8 [==============================] - 1s 73ms/step - loss: 0.5244 - dice_coef: 0.6410 - val_loss: 0.9819 - val_dice_coef: 0.5171\n",
            "Epoch 10/30\n",
            "8/8 [==============================] - 1s 73ms/step - loss: 0.5088 - dice_coef: 0.6511 - val_loss: 0.9642 - val_dice_coef: 0.5244\n",
            "Epoch 11/30\n",
            "8/8 [==============================] - 1s 73ms/step - loss: 0.4954 - dice_coef: 0.6607 - val_loss: 0.9416 - val_dice_coef: 0.5336\n",
            "Epoch 12/30\n",
            "8/8 [==============================] - 1s 74ms/step - loss: 0.4818 - dice_coef: 0.6722 - val_loss: 0.9112 - val_dice_coef: 0.5454\n",
            "Epoch 13/30\n",
            "8/8 [==============================] - 1s 73ms/step - loss: 0.4715 - dice_coef: 0.6809 - val_loss: 0.8588 - val_dice_coef: 0.5648\n",
            "Epoch 14/30\n",
            "8/8 [==============================] - 1s 72ms/step - loss: 0.4607 - dice_coef: 0.6884 - val_loss: 0.8113 - val_dice_coef: 0.5811\n",
            "Epoch 15/30\n",
            "8/8 [==============================] - 1s 74ms/step - loss: 0.4534 - dice_coef: 0.6948 - val_loss: 0.7726 - val_dice_coef: 0.5933\n",
            "Epoch 16/30\n",
            "8/8 [==============================] - 1s 73ms/step - loss: 0.4421 - dice_coef: 0.7025 - val_loss: 0.7396 - val_dice_coef: 0.6031\n",
            "Epoch 17/30\n",
            "8/8 [==============================] - 1s 74ms/step - loss: 0.4351 - dice_coef: 0.7083 - val_loss: 0.7156 - val_dice_coef: 0.6089\n",
            "Epoch 18/30\n",
            "8/8 [==============================] - 1s 73ms/step - loss: 0.4281 - dice_coef: 0.7145 - val_loss: 0.6824 - val_dice_coef: 0.6210\n",
            "Epoch 19/30\n",
            "8/8 [==============================] - 1s 73ms/step - loss: 0.4225 - dice_coef: 0.7175 - val_loss: 0.6547 - val_dice_coef: 0.6325\n",
            "Epoch 20/30\n",
            "8/8 [==============================] - 1s 74ms/step - loss: 0.4157 - dice_coef: 0.7220 - val_loss: 0.6439 - val_dice_coef: 0.6355\n",
            "Epoch 21/30\n",
            "8/8 [==============================] - 1s 74ms/step - loss: 0.4092 - dice_coef: 0.7266 - val_loss: 0.6196 - val_dice_coef: 0.6469\n",
            "Epoch 22/30\n",
            "8/8 [==============================] - 1s 74ms/step - loss: 0.4134 - dice_coef: 0.7241 - val_loss: 0.6018 - val_dice_coef: 0.6546\n",
            "Epoch 23/30\n",
            "8/8 [==============================] - 1s 76ms/step - loss: 0.3999 - dice_coef: 0.7310 - val_loss: 0.6020 - val_dice_coef: 0.6527\n",
            "Epoch 24/30\n",
            "8/8 [==============================] - 1s 76ms/step - loss: 0.3910 - dice_coef: 0.7386 - val_loss: 0.6068 - val_dice_coef: 0.6487\n",
            "Epoch 25/30\n",
            "8/8 [==============================] - 1s 75ms/step - loss: 0.3903 - dice_coef: 0.7423 - val_loss: 0.5836 - val_dice_coef: 0.6583\n",
            "Epoch 26/30\n",
            "8/8 [==============================] - 1s 75ms/step - loss: 0.3810 - dice_coef: 0.7448 - val_loss: 0.5573 - val_dice_coef: 0.6699\n",
            "Epoch 27/30\n",
            "8/8 [==============================] - 1s 72ms/step - loss: 0.3831 - dice_coef: 0.7416 - val_loss: 0.5564 - val_dice_coef: 0.6686\n",
            "Epoch 28/30\n",
            "8/8 [==============================] - 1s 74ms/step - loss: 0.3954 - dice_coef: 0.7398 - val_loss: 0.5570 - val_dice_coef: 0.6670\n",
            "Epoch 29/30\n",
            "8/8 [==============================] - 1s 74ms/step - loss: 0.4077 - dice_coef: 0.7341 - val_loss: 0.5351 - val_dice_coef: 0.6791\n",
            "Epoch 30/30\n",
            "8/8 [==============================] - 1s 73ms/step - loss: 0.3908 - dice_coef: 0.7405 - val_loss: 0.5283 - val_dice_coef: 0.6823\n"
          ],
          "name": "stdout"
        }
      ]
    },
    {
      "cell_type": "markdown",
      "metadata": {
        "id": "YulllVQg9Dl0",
        "colab_type": "text"
      },
      "source": [
        "#Распознаём обучающую выборку"
      ]
    },
    {
      "cell_type": "code",
      "metadata": {
        "id": "4EGZ1bEflh9H",
        "colab_type": "code",
        "outputId": "7b6b10f7-279d-412f-89d6-034b3ac9819d",
        "colab": {
          "base_uri": "https://localhost:8080/",
          "height": 36
        }
      },
      "source": [
        "predL = modelL.predict(xTrain)\n",
        "print(predL.shape)"
      ],
      "execution_count": 0,
      "outputs": [
        {
          "output_type": "stream",
          "text": [
            "(10, 88, 120, 3)\n"
          ],
          "name": "stdout"
        }
      ]
    },
    {
      "cell_type": "code",
      "metadata": {
        "id": "kuPlJzmw9DHC",
        "colab_type": "code",
        "colab": {}
      },
      "source": [
        "outL = []\n",
        "\n",
        "for pr in predL:\n",
        "  currPr = pr.copy()\n",
        "  currMatr = []\n",
        "  for i in range(currPr.shape[0]):\n",
        "    currStr = []\n",
        "    for j in range(currPr.shape[1]):\n",
        "      currStr.append(index2Color(np.argmax(currPr[i][j])))\n",
        "    currMatr.append(currStr)\n",
        "  outL.append(currMatr)\n",
        "\n",
        "outL = np.array(outL)\n",
        "outL = outL.astype('uint8')"
      ],
      "execution_count": 0,
      "outputs": []
    },
    {
      "cell_type": "code",
      "metadata": {
        "id": "4xeqej5N9TlN",
        "colab_type": "code",
        "outputId": "e9bd16ee-9036-4ff4-d9a5-0af4c6848bd2",
        "colab": {
          "base_uri": "https://localhost:8080/",
          "height": 521
        }
      },
      "source": [
        "n = 9\n",
        "img = Image.fromarray(outY3[n])\n",
        "plt.imshow(img.convert('RGBA'))\n",
        "plt.show()\n",
        "img = Image.fromarray(outL[n])\n",
        "plt.imshow(img.convert('RGBA'))\n",
        "plt.show()"
      ],
      "execution_count": 0,
      "outputs": [
        {
          "output_type": "display_data",
          "data": {
            "image/png": "[encoded data removed]",
            "text/plain": [
              "<Figure size 432x288 with 1 Axes>"
            ]
          },
          "metadata": {
            "tags": []
          }
        },
        {
          "output_type": "display_data",
          "data": {
            "image/png": "[encoded data removed]",
            "text/plain": [
              "<Figure size 432x288 with 1 Axes>"
            ]
          },
          "metadata": {
            "tags": []
          }
        }
      ]
    },
    {
      "cell_type": "markdown",
      "metadata": {
        "id": "-FC9VX4zsnJa",
        "colab_type": "text"
      },
      "source": [
        "#Создаём и обучаем U-net"
      ]
    },
    {
      "cell_type": "code",
      "metadata": {
        "id": "r-n-ivxFLKOF",
        "colab_type": "code",
        "colab": {}
      },
      "source": [
        "def unet(num_classes = 6, input_shape= (352, 480, 3)):\n",
        "    img_input = Input(input_shape)\n",
        "\n",
        "    # Block 1\n",
        "    x = Conv2D(64, (3, 3), padding='same', name='block1_conv1')(img_input)\n",
        "    x = BatchNormalization()(x)\n",
        "    x = Activation('relu')(x)\n",
        "\n",
        "    x = Conv2D(64, (3, 3), padding='same', name='block1_conv2')(x)\n",
        "    x = BatchNormalization()(x)\n",
        "    block_1_out = Activation('relu')(x)\n",
        "\n",
        "    x = MaxPooling2D()(block_1_out)\n",
        "\n",
        "    # Block 2\n",
        "    x = Conv2D(128, (3, 3), padding='same', name='block2_conv1')(x)\n",
        "    x = BatchNormalization()(x)\n",
        "    x = Activation('relu')(x)\n",
        "\n",
        "    x = Conv2D(128, (3, 3), padding='same', name='block2_conv2')(x)\n",
        "    x = BatchNormalization()(x)\n",
        "    block_2_out = Activation('relu')(x)\n",
        "\n",
        "    x = MaxPooling2D()(block_2_out)\n",
        "\n",
        "    # Block 3\n",
        "    x = Conv2D(256, (3, 3), padding='same', name='block3_conv1')(x)\n",
        "    x = BatchNormalization()(x)\n",
        "    x = Activation('relu')(x)\n",
        "\n",
        "    x = Conv2D(256, (3, 3), padding='same', name='block3_conv2')(x)\n",
        "    x = BatchNormalization()(x)\n",
        "    x = Activation('relu')(x)\n",
        "\n",
        "    x = Conv2D(256, (3, 3), padding='same', name='block3_conv3')(x)\n",
        "    x = BatchNormalization()(x)\n",
        "    block_3_out = Activation('relu')(x)\n",
        "\n",
        "    x = MaxPooling2D()(block_3_out)\n",
        "\n",
        "    # Block 4\n",
        "    x = Conv2D(512, (3, 3), padding='same', name='block4_conv1')(x)\n",
        "    x = BatchNormalization()(x)\n",
        "    x = Activation('relu')(x)\n",
        "\n",
        "    x = Conv2D(512, (3, 3), padding='same', name='block4_conv2')(x)\n",
        "    x = BatchNormalization()(x)\n",
        "    x = Activation('relu')(x)\n",
        "\n",
        "    x = Conv2D(512, (3, 3), padding='same', name='block4_conv3')(x)\n",
        "    x = BatchNormalization()(x)\n",
        "    block_4_out = Activation('relu')(x)\n",
        "\n",
        "    #x = MaxPooling2D()(block_4_out)\n",
        "\n",
        "    # Block 5 сжимает последний\n",
        "    #x = Conv2D(512, (3, 3), padding='same', name='block5_conv1')(x)\n",
        "    #x = BatchNormalization()(x)\n",
        "    #x = Activation('relu')(x)\n",
        "\n",
        "    #x = Conv2D(512, (3, 3), padding='same', name='block5_conv2')(x)\n",
        "    #x = BatchNormalization()(x)\n",
        "    #x = Activation('relu')(x)\n",
        "\n",
        "    #x = Conv2D(512, (3, 3), padding='same', name='block5_conv3')(x)\n",
        "    #x = BatchNormalization()(x)\n",
        "    #x = Activation('relu')(x)\n",
        "\n",
        "\n",
        "    # Load pretrained weights.\n",
        "    #for_pretrained_weight = MaxPooling2D()(x)\n",
        "    #vgg16 = Model(img_input, for_pretrained_weight)\n",
        "    #vgg16.load_weights('vgg16_weights_tf_dim_ordering_tf_kernels_notop.h5', by_name=True)\n",
        "\n",
        "    # UP 1 разжимает последний\n",
        "    #x = Conv2DTranspose(512, (2, 2), strides=(2, 2), padding='same')(x)\n",
        "    #x = BatchNormalization()(x)\n",
        "    #x = Activation('relu')(x)\n",
        "\n",
        "    #x = concatenate([x, block_4_out])\n",
        "    #x = Conv2D(512, (3, 3), padding='same')(x)\n",
        "    #x = BatchNormalization()(x)\n",
        "    #x = Activation('relu')(x)\n",
        "\n",
        "    #x = Conv2D(512, (3, 3), padding='same')(x)\n",
        "    #x = BatchNormalization()(x)\n",
        "    #x = Activation('relu')(x)\n",
        "\n",
        "    # UP 2  - разжимает\n",
        "    x = Conv2DTranspose(256, (2, 2), strides=(2, 2), padding='same')(x)\n",
        "    x = BatchNormalization()(x)\n",
        "    x = Activation('relu')(x)\n",
        "\n",
        "    x = concatenate([x, block_3_out])\n",
        "    x = Conv2D(256, (3, 3), padding='same')(x)\n",
        "    x = BatchNormalization()(x)\n",
        "    x = Activation('relu')(x)\n",
        "\n",
        "    x = Conv2D(256, (3, 3), padding='same')(x)\n",
        "    x = BatchNormalization()(x)\n",
        "    x = Activation('relu')(x)\n",
        "\n",
        "    # UP 3 разжимает\n",
        "    x = Conv2DTranspose(128, (2, 2), strides=(2, 2), padding='same')(x)\n",
        "    x = BatchNormalization()(x)\n",
        "    x = Activation('relu')(x)\n",
        "\n",
        "    x = concatenate([x, block_2_out])\n",
        "    x = Conv2D(128, (3, 3), padding='same')(x)\n",
        "    x = BatchNormalization()(x)\n",
        "    x = Activation('relu')(x)\n",
        "\n",
        "    x = Conv2D(128, (3, 3), padding='same')(x)\n",
        "    x = BatchNormalization()(x)\n",
        "    x = Activation('relu')(x)\n",
        "\n",
        "    # UP 4 разжимает\n",
        "    x = Conv2DTranspose(64, (2, 2), strides=(2, 2), padding='same')(x)\n",
        "    x = BatchNormalization()(x)\n",
        "    x = Activation('relu')(x)\n",
        "\n",
        "    x = concatenate([x, block_1_out])\n",
        "    x = Conv2D(64, (3, 3), padding='same')(x)\n",
        "    x = BatchNormalization()(x)\n",
        "    x = Activation('relu')(x)\n",
        "\n",
        "    x = Conv2D(64, (3, 3), padding='same')(x)\n",
        "    x = BatchNormalization()(x)\n",
        "    x = Activation('relu')(x)\n",
        "\n",
        "    x = Conv2D(num_classes, (3, 3), activation='softmax', padding='same')(x)\n",
        "\n",
        "    model = Model(img_input, x)\n",
        "    model.compile(optimizer=Adam(),\n",
        "                  loss='categorical_crossentropy',\n",
        "                  metrics=[dice_coef])\n",
        "    #model.summary()\n",
        "    return model"
      ],
      "execution_count": 0,
      "outputs": []
    },
    {
      "cell_type": "code",
      "metadata": {
        "id": "eFlktpNPRtVC",
        "colab_type": "code",
        "outputId": "2e931765-8674-41de-e64e-d9393c7bb5b2",
        "colab": {
          "base_uri": "https://localhost:8080/",
          "height": 1000
        }
      },
      "source": [
        "model = unet(3, (88, 120, 3))\n",
        "history = model.fit(xTrain, yTrain3, epochs=30, batch_size=5)"
      ],
      "execution_count": 0,
      "outputs": [
        {
          "output_type": "stream",
          "text": [
            "W0720 10:36:59.009560 139699055748992 deprecation_wrapper.py:119] From /usr/local/lib/python3.6/dist-packages/keras/backend/tensorflow_backend.py:3976: The name tf.nn.max_pool is deprecated. Please use tf.nn.max_pool2d instead.\n",
            "\n"
          ],
          "name": "stderr"
        },
        {
          "output_type": "stream",
          "text": [
            "Epoch 1/30\n",
            "10/10 [==============================] - 16s 2s/step - loss: 1.1823 - dice_coef: 0.4008\n",
            "Epoch 2/30\n",
            "10/10 [==============================] - 11s 1s/step - loss: 0.6075 - dice_coef: 0.6179\n",
            "Epoch 3/30\n",
            "10/10 [==============================] - 11s 1s/step - loss: 0.3800 - dice_coef: 0.7338\n",
            "Epoch 4/30\n",
            "10/10 [==============================] - 11s 1s/step - loss: 0.2934 - dice_coef: 0.8236\n",
            "Epoch 5/30\n",
            "10/10 [==============================] - 11s 1s/step - loss: 0.2666 - dice_coef: 0.8547\n",
            "Epoch 6/30\n",
            "10/10 [==============================] - 11s 1s/step - loss: 0.2544 - dice_coef: 0.8478\n",
            "Epoch 7/30\n",
            "10/10 [==============================] - 11s 1s/step - loss: 0.1967 - dice_coef: 0.8701\n",
            "Epoch 8/30\n",
            "10/10 [==============================] - 11s 1s/step - loss: 0.1843 - dice_coef: 0.8890\n",
            "Epoch 9/30\n",
            "10/10 [==============================] - 11s 1s/step - loss: 0.1656 - dice_coef: 0.9011\n",
            "Epoch 10/30\n",
            "10/10 [==============================] - 11s 1s/step - loss: 0.1437 - dice_coef: 0.9103\n",
            "Epoch 11/30\n",
            "10/10 [==============================] - 11s 1s/step - loss: 0.1271 - dice_coef: 0.9166\n",
            "Epoch 12/30\n",
            "10/10 [==============================] - 11s 1s/step - loss: 0.1392 - dice_coef: 0.9180\n",
            "Epoch 13/30\n",
            "10/10 [==============================] - 11s 1s/step - loss: 0.1191 - dice_coef: 0.9307\n",
            "Epoch 14/30\n",
            "10/10 [==============================] - 11s 1s/step - loss: 0.1075 - dice_coef: 0.9342\n",
            "Epoch 15/30\n",
            "10/10 [==============================] - 11s 1s/step - loss: 0.1002 - dice_coef: 0.9356\n",
            "Epoch 16/30\n",
            "10/10 [==============================] - 11s 1s/step - loss: 0.1012 - dice_coef: 0.9364\n",
            "Epoch 17/30\n",
            "10/10 [==============================] - 11s 1s/step - loss: 0.1176 - dice_coef: 0.9308\n",
            "Epoch 18/30\n",
            "10/10 [==============================] - 11s 1s/step - loss: 0.0959 - dice_coef: 0.9455\n",
            "Epoch 19/30\n",
            "10/10 [==============================] - 11s 1s/step - loss: 0.0971 - dice_coef: 0.9430\n",
            "Epoch 20/30\n",
            "10/10 [==============================] - 11s 1s/step - loss: 0.1039 - dice_coef: 0.9348\n",
            "Epoch 21/30\n",
            "10/10 [==============================] - 11s 1s/step - loss: 0.1022 - dice_coef: 0.9366\n",
            "Epoch 22/30\n",
            "10/10 [==============================] - 11s 1s/step - loss: 0.0838 - dice_coef: 0.9504\n",
            "Epoch 23/30\n",
            "10/10 [==============================] - 11s 1s/step - loss: 0.0904 - dice_coef: 0.9466\n",
            "Epoch 24/30\n",
            "10/10 [==============================] - 11s 1s/step - loss: 0.0996 - dice_coef: 0.9432\n",
            "Epoch 25/30\n",
            "10/10 [==============================] - 11s 1s/step - loss: 0.0823 - dice_coef: 0.9513\n",
            "Epoch 26/30\n",
            "10/10 [==============================] - 11s 1s/step - loss: 0.0769 - dice_coef: 0.9531\n",
            "Epoch 27/30\n",
            "10/10 [==============================] - 11s 1s/step - loss: 0.0724 - dice_coef: 0.9545\n",
            "Epoch 28/30\n",
            "10/10 [==============================] - 11s 1s/step - loss: 0.0710 - dice_coef: 0.9551\n",
            "Epoch 29/30\n",
            "10/10 [==============================] - 11s 1s/step - loss: 0.0675 - dice_coef: 0.9576\n",
            "Epoch 30/30\n",
            "10/10 [==============================] - 11s 1s/step - loss: 0.0672 - dice_coef: 0.9586\n"
          ],
          "name": "stdout"
        }
      ]
    },
    {
      "cell_type": "markdown",
      "metadata": {
        "id": "VaAiNqnDsxgf",
        "colab_type": "text"
      },
      "source": [
        "#Распознаём обучающую выборку"
      ]
    },
    {
      "cell_type": "code",
      "metadata": {
        "id": "E374m5yTggzT",
        "colab_type": "code",
        "outputId": "658917b9-3dcd-45d8-e3fe-8fccf8e33779",
        "colab": {
          "base_uri": "https://localhost:8080/",
          "height": 36
        }
      },
      "source": [
        "pred = model.predict(xTrain)\n",
        "print(pred.shape)"
      ],
      "execution_count": 0,
      "outputs": [
        {
          "output_type": "stream",
          "text": [
            "(10, 88, 120, 3)\n"
          ],
          "name": "stdout"
        }
      ]
    },
    {
      "cell_type": "code",
      "metadata": {
        "id": "KPWVBHNLhHir",
        "colab_type": "code",
        "colab": {}
      },
      "source": [
        "out = []\n",
        "\n",
        "for pr in pred:\n",
        "  currPr = pr.copy()\n",
        "  currMatr = []\n",
        "  for i in range(currPr.shape[0]):\n",
        "    currStr = []\n",
        "    for j in range(currPr.shape[1]):\n",
        "      currStr.append(index2Color(np.argmax(currPr[i][j])))\n",
        "    currMatr.append(currStr)\n",
        "  out.append(currMatr)\n",
        "\n",
        "out = np.array(out)\n",
        "out = out.astype('uint8')"
      ],
      "execution_count": 0,
      "outputs": []
    },
    {
      "cell_type": "code",
      "metadata": {
        "id": "AFg_jLs0iepN",
        "colab_type": "code",
        "outputId": "0d12133d-8f10-42fa-9203-4419dc556d7e",
        "colab": {
          "base_uri": "https://localhost:8080/",
          "height": 521
        }
      },
      "source": [
        "n = 9\n",
        "img = Image.fromarray(outY3[n])\n",
        "plt.imshow(img.convert('RGBA'))\n",
        "plt.show()\n",
        "img = Image.fromarray(out[n])\n",
        "plt.imshow(img.convert('RGBA'))\n",
        "plt.show()"
      ],
      "execution_count": 0,
      "outputs": [
        {
          "output_type": "display_data",
          "data": {
            "image/png": "[encoded data removed]",
            "text/plain": [
              "<Figure size 432x288 with 1 Axes>"
            ]
          },
          "metadata": {
            "tags": []
          }
        },
        {
          "output_type": "display_data",
          "data": {
            "image/png": "[encoded data removed]",
            "text/plain": [
              "<Figure size 432x288 with 1 Axes>"
            ]
          },
          "metadata": {
            "tags": []
          }
        }
      ]
    },
    {
      "cell_type": "markdown",
      "metadata": {
        "id": "09KO0jduDIu-",
        "colab_type": "text"
      },
      "source": [
        "#Упрощённая U-net"
      ]
    },
    {
      "cell_type": "code",
      "metadata": {
        "id": "BSLJRhASDOxJ",
        "colab_type": "code",
        "colab": {}
      },
      "source": [
        "def simpleUnet(num_classes = 6, input_shape= (352, 480, 3)):\n",
        "    img_input = Input(input_shape)\n",
        "\n",
        "    # Block 1\n",
        "    x = Conv2D(32, (3, 3), padding='same', name='block1_conv1')(img_input)\n",
        "    x = BatchNormalization()(x)\n",
        "    x = Activation('relu')(x)\n",
        "\n",
        "    x = Conv2D(32, (3, 3), padding='same', name='block1_conv2')(x)\n",
        "    x = BatchNormalization()(x)\n",
        "    block_1_out = Activation('relu')(x)\n",
        "\n",
        "    x = MaxPooling2D()(block_1_out)\n",
        "\n",
        "    # Block 2\n",
        "    x = Conv2D(64, (3, 3), padding='same', name='block2_conv1')(x)\n",
        "    x = BatchNormalization()(x)\n",
        "    x = Activation('relu')(x)\n",
        "\n",
        "    x = Conv2D(64, (3, 3), padding='same', name='block2_conv2')(x)\n",
        "    x = BatchNormalization()(x)\n",
        "    block_2_out = Activation('relu')(x)\n",
        "\n",
        "    x = MaxPooling2D()(block_2_out)\n",
        "\n",
        "    \n",
        "    # UP 1\n",
        "    x = Conv2DTranspose(64, (2, 2), strides=(2, 2), padding='same')(x)\n",
        "    x = BatchNormalization()(x)\n",
        "    x = Activation('relu')(x)\n",
        "\n",
        "    x = Conv2D(64, (3, 3), padding='same')(x)\n",
        "    x = BatchNormalization()(x)\n",
        "    x = Activation('relu')(x)\n",
        "\n",
        "    x = Conv2D(64, (3, 3), padding='same')(x)\n",
        "    x = BatchNormalization()(x)\n",
        "    x = Activation('relu')(x)\n",
        "\n",
        "    # UP 2\n",
        "    x = Conv2DTranspose(32, (2, 2), strides=(2, 2), padding='same')(x)\n",
        "    x = BatchNormalization()(x)\n",
        "    x = Activation('relu')(x)\n",
        "\n",
        "    x = Conv2D(32, (3, 3), padding='same')(x)\n",
        "    x = BatchNormalization()(x)\n",
        "    x = Activation('relu')(x)\n",
        "\n",
        "    x = Conv2D(32, (3, 3), padding='same')(x)\n",
        "    x = BatchNormalization()(x)\n",
        "    x = Activation('relu')(x)\n",
        "\n",
        "    x = Conv2D(num_classes, (3, 3), activation='softmax', padding='same')(x)\n",
        "\n",
        "    model = Model(img_input, x)\n",
        "    model.compile(optimizer=Adam(lr=1e-3),\n",
        "                  loss='categorical_crossentropy',\n",
        "                  metrics=[dice_coef])\n",
        "    #model.summary()\n",
        "    return model"
      ],
      "execution_count": 0,
      "outputs": []
    },
    {
      "cell_type": "code",
      "metadata": {
        "id": "w18aR1NJDoW6",
        "colab_type": "code",
        "outputId": "e771f975-c0a6-48a3-9c93-8d674e04dd23",
        "colab": {
          "base_uri": "https://localhost:8080/",
          "height": 1000
        }
      },
      "source": [
        "modelS = simpleUnet(3, (88, 120, 3))\n",
        "history = modelS.fit(xTrain, yTrain3, epochs=30, batch_size=5)"
      ],
      "execution_count": 0,
      "outputs": [
        {
          "output_type": "stream",
          "text": [
            "Epoch 1/30\n",
            "10/10 [==============================] - 6s 563ms/step - loss: 1.2231 - dice_coef: 0.3403\n",
            "Epoch 2/30\n",
            "10/10 [==============================] - 2s 222ms/step - loss: 0.8852 - dice_coef: 0.4563\n",
            "Epoch 3/30\n",
            "10/10 [==============================] - 2s 221ms/step - loss: 0.7084 - dice_coef: 0.5437\n",
            "Epoch 4/30\n",
            "10/10 [==============================] - 2s 225ms/step - loss: 0.6310 - dice_coef: 0.5870\n",
            "Epoch 5/30\n",
            "10/10 [==============================] - 2s 222ms/step - loss: 0.5539 - dice_coef: 0.6242\n",
            "Epoch 6/30\n",
            "10/10 [==============================] - 2s 220ms/step - loss: 0.4857 - dice_coef: 0.6617\n",
            "Epoch 7/30\n",
            "10/10 [==============================] - 2s 220ms/step - loss: 0.4371 - dice_coef: 0.6946\n",
            "Epoch 8/30\n",
            "10/10 [==============================] - 2s 221ms/step - loss: 0.3986 - dice_coef: 0.7231\n",
            "Epoch 9/30\n",
            "10/10 [==============================] - 2s 223ms/step - loss: 0.3422 - dice_coef: 0.7675\n",
            "Epoch 10/30\n",
            "10/10 [==============================] - 2s 221ms/step - loss: 0.3401 - dice_coef: 0.7818\n",
            "Epoch 11/30\n",
            "10/10 [==============================] - 2s 223ms/step - loss: 0.2808 - dice_coef: 0.8165\n",
            "Epoch 12/30\n",
            "10/10 [==============================] - 2s 222ms/step - loss: 0.2621 - dice_coef: 0.8322\n",
            "Epoch 13/30\n",
            "10/10 [==============================] - 2s 225ms/step - loss: 0.2428 - dice_coef: 0.8454\n",
            "Epoch 14/30\n",
            "10/10 [==============================] - 2s 227ms/step - loss: 0.2221 - dice_coef: 0.8582\n",
            "Epoch 15/30\n",
            "10/10 [==============================] - 2s 225ms/step - loss: 0.2234 - dice_coef: 0.8654\n",
            "Epoch 16/30\n",
            "10/10 [==============================] - 2s 223ms/step - loss: 0.1992 - dice_coef: 0.8786\n",
            "Epoch 17/30\n",
            "10/10 [==============================] - 2s 229ms/step - loss: 0.1778 - dice_coef: 0.8897\n",
            "Epoch 18/30\n",
            "10/10 [==============================] - 2s 225ms/step - loss: 0.1635 - dice_coef: 0.8974\n",
            "Epoch 19/30\n",
            "10/10 [==============================] - 2s 222ms/step - loss: 0.1923 - dice_coef: 0.8874\n",
            "Epoch 20/30\n",
            "10/10 [==============================] - 2s 223ms/step - loss: 0.1519 - dice_coef: 0.9062\n",
            "Epoch 21/30\n",
            "10/10 [==============================] - 2s 221ms/step - loss: 0.1421 - dice_coef: 0.9133\n",
            "Epoch 22/30\n",
            "10/10 [==============================] - 2s 220ms/step - loss: 0.1325 - dice_coef: 0.9199\n",
            "Epoch 23/30\n",
            "10/10 [==============================] - 2s 223ms/step - loss: 0.1325 - dice_coef: 0.9208\n",
            "Epoch 24/30\n",
            "10/10 [==============================] - 2s 223ms/step - loss: 0.1159 - dice_coef: 0.9272\n",
            "Epoch 25/30\n",
            "10/10 [==============================] - 2s 222ms/step - loss: 0.1177 - dice_coef: 0.9289\n",
            "Epoch 26/30\n",
            "10/10 [==============================] - 2s 218ms/step - loss: 0.1091 - dice_coef: 0.9323\n",
            "Epoch 27/30\n",
            "10/10 [==============================] - 2s 217ms/step - loss: 0.1049 - dice_coef: 0.9374\n",
            "Epoch 28/30\n",
            "10/10 [==============================] - 2s 222ms/step - loss: 0.1135 - dice_coef: 0.9336\n",
            "Epoch 29/30\n",
            "10/10 [==============================] - 2s 222ms/step - loss: 0.1551 - dice_coef: 0.9179\n",
            "Epoch 30/30\n",
            "10/10 [==============================] - 2s 218ms/step - loss: 0.1564 - dice_coef: 0.9162\n"
          ],
          "name": "stdout"
        }
      ]
    },
    {
      "cell_type": "code",
      "metadata": {
        "id": "LEc8I9DNDtxC",
        "colab_type": "code",
        "outputId": "4b9b60e7-bdc5-4c21-cd2f-92aaece0ddfe",
        "colab": {
          "base_uri": "https://localhost:8080/",
          "height": 36
        }
      },
      "source": [
        "predS = modelS.predict(xTrain)\n",
        "print(predS.shape)"
      ],
      "execution_count": 0,
      "outputs": [
        {
          "output_type": "stream",
          "text": [
            "(10, 88, 120, 3)\n"
          ],
          "name": "stdout"
        }
      ]
    },
    {
      "cell_type": "code",
      "metadata": {
        "id": "IuEmE53ADzUL",
        "colab_type": "code",
        "colab": {}
      },
      "source": [
        "outS = []\n",
        "\n",
        "for pr in predS:\n",
        "  currPr = pr.copy()\n",
        "  currMatr = []\n",
        "  for i in range(currPr.shape[0]):\n",
        "    currStr = []\n",
        "    for j in range(currPr.shape[1]):\n",
        "      currStr.append(index2Color(np.argmax(currPr[i][j])))\n",
        "    currMatr.append(currStr)\n",
        "  outS.append(currMatr)\n",
        "\n",
        "outS = np.array(outS)\n",
        "outS = outS.astype('uint8')"
      ],
      "execution_count": 0,
      "outputs": []
    },
    {
      "cell_type": "code",
      "metadata": {
        "id": "TIQyKGUHD2tG",
        "colab_type": "code",
        "outputId": "0253ddd1-9fce-4d96-a8b8-c351323862b4",
        "colab": {
          "base_uri": "https://localhost:8080/",
          "height": 521
        }
      },
      "source": [
        "n = 1\n",
        "img = Image.fromarray(outY3[n])\n",
        "plt.imshow(img.convert('RGBA'))\n",
        "plt.show()\n",
        "img = Image.fromarray(outS[n])\n",
        "plt.imshow(img.convert('RGBA'))\n",
        "plt.show()"
      ],
      "execution_count": 0,
      "outputs": [
        {
          "output_type": "display_data",
          "data": {
            "image/png": "[encoded data removed]",
            "text/plain": [
              "<Figure size 432x288 with 1 Axes>"
            ]
          },
          "metadata": {
            "tags": []
          }
        },
        {
          "output_type": "display_data",
          "data": {
            "image/png": "[encoded data removed]",
            "text/plain": [
              "<Figure size 432x288 with 1 Axes>"
            ]
          },
          "metadata": {
            "tags": []
          }
        }
      ]
    },
    {
      "cell_type": "markdown",
      "metadata": {
        "id": "NHDbEEibA6uf",
        "colab_type": "text"
      },
      "source": [
        "#Расширенная U-net"
      ]
    },
    {
      "cell_type": "code",
      "metadata": {
        "id": "QOjFjIERBFId",
        "colab_type": "code",
        "colab": {}
      },
      "source": [
        "def unetWithMask(num_classes = 6, input_shape= (352, 480, 3)):\n",
        "    img_input = Input(input_shape)\n",
        "\n",
        "    # Block 1\n",
        "    x = Conv2D(64, (3, 3), padding='same', name='block1_conv1')(img_input)\n",
        "    x = BatchNormalization()(x)\n",
        "    x = Activation('relu')(x)\n",
        "\n",
        "    x = Conv2D(64, (3, 3), padding='same', name='block1_conv2')(x)\n",
        "    x = BatchNormalization()(x)\n",
        "    block_1_out = Activation('relu')(x)\n",
        "    \n",
        "    block_1_out_mask = Conv2D(64, (1, 1), padding='same')(block_1_out)\n",
        "\n",
        "    x = MaxPooling2D()(block_1_out)\n",
        "\n",
        "    # Block 2\n",
        "    x = Conv2D(128, (3, 3), padding='same', name='block2_conv1')(x)\n",
        "    x = BatchNormalization()(x)\n",
        "    x = Activation('relu')(x)\n",
        "\n",
        "    x = Conv2D(128, (3, 3), padding='same', name='block2_conv2')(x)\n",
        "    x = BatchNormalization()(x)\n",
        "    block_2_out = Activation('relu')(x)\n",
        "\n",
        "    block_2_out_mask = Conv2D(128, (1, 1), padding='same')(block_2_out)\n",
        "    \n",
        "    x = MaxPooling2D()(block_2_out)\n",
        "\n",
        "    # Block 3\n",
        "    x = Conv2D(256, (3, 3), padding='same', name='block3_conv1')(x)\n",
        "    x = BatchNormalization()(x)\n",
        "    x = Activation('relu')(x)\n",
        "\n",
        "    x = Conv2D(256, (3, 3), padding='same', name='block3_conv2')(x)\n",
        "    x = BatchNormalization()(x)\n",
        "    x = Activation('relu')(x)\n",
        "\n",
        "    x = Conv2D(256, (3, 3), padding='same', name='block3_conv3')(x)\n",
        "    x = BatchNormalization()(x)\n",
        "    block_3_out = Activation('relu')(x)\n",
        "\n",
        "    block_3_out_mask = Conv2D(256, (1, 1), padding='same')(block_3_out)\n",
        "    \n",
        "    x = MaxPooling2D()(block_3_out)\n",
        "\n",
        "    # Block 4\n",
        "    x = Conv2D(512, (3, 3), padding='same', name='block4_conv1')(x)\n",
        "    x = BatchNormalization()(x)\n",
        "    x = Activation('relu')(x)\n",
        "\n",
        "    x = Conv2D(512, (3, 3), padding='same', name='block4_conv2')(x)\n",
        "    x = BatchNormalization()(x)\n",
        "    x = Activation('relu')(x)\n",
        "\n",
        "    x = Conv2D(512, (3, 3), padding='same', name='block4_conv3')(x)\n",
        "    x = BatchNormalization()(x)\n",
        "    block_4_out = Activation('relu')(x)\n",
        "\n",
        "    block_4_out_mask = Conv2D(512, (1, 1), padding='same')(block_4_out)\n",
        "    \n",
        "    x = MaxPooling2D()(block_4_out)\n",
        "\n",
        "    # Block 5\n",
        "    x = Conv2D(512, (3, 3), padding='same', name='block5_conv1')(x)\n",
        "    x = BatchNormalization()(x)\n",
        "    x = Activation('relu')(x)\n",
        "\n",
        "    x = Conv2D(512, (3, 3), padding='same', name='block5_conv2')(x)\n",
        "    x = BatchNormalization()(x)\n",
        "    x = Activation('relu')(x)\n",
        "\n",
        "    x = Conv2D(512, (3, 3), padding='same', name='block5_conv3')(x)\n",
        "    x = BatchNormalization()(x)\n",
        "    x = Activation('relu')(x)\n",
        "\n",
        "\n",
        "    # Load pretrained weights.\n",
        "    for_pretrained_weight = MaxPooling2D()(x)\n",
        "    vgg16 = Model(img_input, for_pretrained_weight)\n",
        "    vgg16.load_weights('vgg16_weights_tf_dim_ordering_tf_kernels_notop.h5', by_name=True)\n",
        "\n",
        "    # UP 1\n",
        "    x = Conv2DTranspose(512, (2, 2), strides=(2, 2), padding='same')(x)\n",
        "    x = BatchNormalization()(x)\n",
        "    x = Activation('relu')(x)\n",
        "\n",
        "    x = concatenate([x, block_4_out, block_4_out_mask])\n",
        "    x = Conv2D(512, (3, 3), padding='same')(x)\n",
        "    x = BatchNormalization()(x)\n",
        "    x = Activation('relu')(x)\n",
        "\n",
        "    x = Conv2D(512, (3, 3), padding='same')(x)\n",
        "    x = BatchNormalization()(x)\n",
        "    x = Activation('relu')(x)\n",
        "\n",
        "    # UP 2\n",
        "    x = Conv2DTranspose(256, (2, 2), strides=(2, 2), padding='same')(x)\n",
        "    x = BatchNormalization()(x)\n",
        "    x = Activation('relu')(x)\n",
        "\n",
        "    x = concatenate([x, block_3_out, block_3_out_mask])\n",
        "    x = Conv2D(256, (3, 3), padding='same')(x)\n",
        "    x = BatchNormalization()(x)\n",
        "    x = Activation('relu')(x)\n",
        "\n",
        "    x = Conv2D(256, (3, 3), padding='same')(x)\n",
        "    x = BatchNormalization()(x)\n",
        "    x = Activation('relu')(x)\n",
        "\n",
        "    # UP 3\n",
        "    x = Conv2DTranspose(128, (2, 2), strides=(2, 2), padding='same')(x)\n",
        "    x = BatchNormalization()(x)\n",
        "    x = Activation('relu')(x)\n",
        "\n",
        "    x = concatenate([x, block_2_out, block_2_out_mask])\n",
        "    x = Conv2D(128, (3, 3), padding='same')(x)\n",
        "    x = BatchNormalization()(x)\n",
        "    x = Activation('relu')(x)\n",
        "\n",
        "    x = Conv2D(128, (3, 3), padding='same')(x)\n",
        "    x = BatchNormalization()(x)\n",
        "    x = Activation('relu')(x)\n",
        "\n",
        "    # UP 4\n",
        "    x = Conv2DTranspose(64, (2, 2), strides=(2, 2), padding='same')(x)\n",
        "    x = BatchNormalization()(x)\n",
        "    x = Activation('relu')(x)\n",
        "\n",
        "    x = concatenate([x, block_1_out, block_1_out_mask])\n",
        "    x = Conv2D(64, (3, 3), padding='same')(x)\n",
        "    x = BatchNormalization()(x)\n",
        "    x = Activation('relu')(x)\n",
        "\n",
        "    x = Conv2D(64, (3, 3), padding='same')(x)\n",
        "    x = BatchNormalization()(x)\n",
        "    x = Activation('relu')(x)\n",
        "\n",
        "    x = Conv2D(num_classes, (3, 3), activation='softmax', padding='same')(x)\n",
        "\n",
        "    model = Model(img_input, x)\n",
        "    model.compile(optimizer=Adam(),\n",
        "                  loss='categorical_crossentropy',\n",
        "                  metrics=[dice_coef])\n",
        "    #model.summary()\n",
        "    return model"
      ],
      "execution_count": 0,
      "outputs": []
    },
    {
      "cell_type": "code",
      "metadata": {
        "id": "SXHrGrKDBwPQ",
        "colab_type": "code",
        "outputId": "93c3dfc5-34ed-4ff4-bc7d-6b9b169893b6",
        "colab": {
          "base_uri": "https://localhost:8080/",
          "height": 1000
        }
      },
      "source": [
        "modelM3 = unetWithMask(3, (352, 480, 3))\n",
        "history = modelM3.fit(xTrain, yTrain3, epochs=30, batch_size=5)"
      ],
      "execution_count": 0,
      "outputs": [
        {
          "output_type": "stream",
          "text": [
            "WARNING: Logging before flag parsing goes to stderr.\n",
            "W0704 13:08:22.254425 140614224541568 deprecation_wrapper.py:119] From /usr/local/lib/python3.6/dist-packages/keras/backend/tensorflow_backend.py:74: The name tf.get_default_graph is deprecated. Please use tf.compat.v1.get_default_graph instead.\n",
            "\n",
            "W0704 13:08:22.276322 140614224541568 deprecation_wrapper.py:119] From /usr/local/lib/python3.6/dist-packages/keras/backend/tensorflow_backend.py:517: The name tf.placeholder is deprecated. Please use tf.compat.v1.placeholder instead.\n",
            "\n",
            "W0704 13:08:22.281036 140614224541568 deprecation_wrapper.py:119] From /usr/local/lib/python3.6/dist-packages/keras/backend/tensorflow_backend.py:4138: The name tf.random_uniform is deprecated. Please use tf.random.uniform instead.\n",
            "\n",
            "W0704 13:08:22.315128 140614224541568 deprecation_wrapper.py:119] From /usr/local/lib/python3.6/dist-packages/keras/backend/tensorflow_backend.py:174: The name tf.get_default_session is deprecated. Please use tf.compat.v1.get_default_session instead.\n",
            "\n",
            "W0704 13:08:22.316439 140614224541568 deprecation_wrapper.py:119] From /usr/local/lib/python3.6/dist-packages/keras/backend/tensorflow_backend.py:181: The name tf.ConfigProto is deprecated. Please use tf.compat.v1.ConfigProto instead.\n",
            "\n",
            "W0704 13:08:22.359624 140614224541568 deprecation_wrapper.py:119] From /usr/local/lib/python3.6/dist-packages/keras/backend/tensorflow_backend.py:1834: The name tf.nn.fused_batch_norm is deprecated. Please use tf.compat.v1.nn.fused_batch_norm instead.\n",
            "\n",
            "W0704 13:08:22.539630 140614224541568 deprecation_wrapper.py:119] From /usr/local/lib/python3.6/dist-packages/keras/backend/tensorflow_backend.py:3976: The name tf.nn.max_pool is deprecated. Please use tf.nn.max_pool2d instead.\n",
            "\n",
            "W0704 13:08:27.919782 140614224541568 deprecation_wrapper.py:119] From /usr/local/lib/python3.6/dist-packages/keras/optimizers.py:790: The name tf.train.Optimizer is deprecated. Please use tf.compat.v1.train.Optimizer instead.\n",
            "\n",
            "W0704 13:08:28.219552 140614224541568 deprecation.py:323] From /usr/local/lib/python3.6/dist-packages/tensorflow/python/ops/math_grad.py:1250: add_dispatch_support.<locals>.wrapper (from tensorflow.python.ops.array_ops) is deprecated and will be removed in a future version.\n",
            "Instructions for updating:\n",
            "Use tf.where in 2.0, which has the same broadcast rule as np.where\n"
          ],
          "name": "stderr"
        },
        {
          "output_type": "stream",
          "text": [
            "Epoch 1/30\n",
            "10/10 [==============================] - 246s 25s/step - loss: 1.1188 - dice_coef: 0.4034\n",
            "Epoch 2/30\n",
            "10/10 [==============================] - 235s 23s/step - loss: 0.5563 - dice_coef: 0.6484\n",
            "Epoch 3/30\n",
            "10/10 [==============================] - 235s 23s/step - loss: 0.4181 - dice_coef: 0.7639\n",
            "Epoch 4/30\n",
            "10/10 [==============================] - 235s 24s/step - loss: 0.2847 - dice_coef: 0.8270\n",
            "Epoch 5/30\n",
            "10/10 [==============================] - 236s 24s/step - loss: 0.2396 - dice_coef: 0.8653\n",
            "Epoch 6/30\n",
            "10/10 [==============================] - 237s 24s/step - loss: 0.2471 - dice_coef: 0.8630\n",
            "Epoch 7/30\n",
            "10/10 [==============================] - 236s 24s/step - loss: 0.2202 - dice_coef: 0.8656\n",
            "Epoch 8/30\n",
            "10/10 [==============================] - 235s 23s/step - loss: 0.1897 - dice_coef: 0.8737\n",
            "Epoch 9/30\n",
            "10/10 [==============================] - 234s 23s/step - loss: 0.1623 - dice_coef: 0.8929\n",
            "Epoch 10/30\n",
            "10/10 [==============================] - 234s 23s/step - loss: 0.1459 - dice_coef: 0.9101\n",
            "Epoch 11/30\n",
            "10/10 [==============================] - 234s 23s/step - loss: 0.1265 - dice_coef: 0.9270\n",
            "Epoch 12/30\n",
            "10/10 [==============================] - 239s 24s/step - loss: 0.1135 - dice_coef: 0.9369\n",
            "Epoch 13/30\n",
            "10/10 [==============================] - 236s 24s/step - loss: 0.0975 - dice_coef: 0.9443\n",
            "Epoch 14/30\n",
            "10/10 [==============================] - 240s 24s/step - loss: 0.1446 - dice_coef: 0.9243\n",
            "Epoch 15/30\n",
            "10/10 [==============================] - 258s 26s/step - loss: 0.1266 - dice_coef: 0.9326\n",
            "Epoch 16/30\n",
            "10/10 [==============================] - 260s 26s/step - loss: 0.1136 - dice_coef: 0.9337\n",
            "Epoch 17/30\n",
            "10/10 [==============================] - 259s 26s/step - loss: 0.0965 - dice_coef: 0.9401\n",
            "Epoch 18/30\n",
            "10/10 [==============================] - 259s 26s/step - loss: 0.0936 - dice_coef: 0.9485\n",
            "Epoch 19/30\n",
            "10/10 [==============================] - 260s 26s/step - loss: 0.1353 - dice_coef: 0.9378\n",
            "Epoch 20/30\n",
            "10/10 [==============================] - 259s 26s/step - loss: 0.0870 - dice_coef: 0.9514\n",
            "Epoch 21/30\n",
            "10/10 [==============================] - 261s 26s/step - loss: 0.0883 - dice_coef: 0.9468\n",
            "Epoch 22/30\n",
            "10/10 [==============================] - 260s 26s/step - loss: 0.0862 - dice_coef: 0.9481\n",
            "Epoch 23/30\n",
            "10/10 [==============================] - 261s 26s/step - loss: 0.0826 - dice_coef: 0.9502\n",
            "Epoch 24/30\n",
            "10/10 [==============================] - 259s 26s/step - loss: 0.0722 - dice_coef: 0.9554\n",
            "Epoch 25/30\n",
            "10/10 [==============================] - 259s 26s/step - loss: 0.0732 - dice_coef: 0.9558\n",
            "Epoch 26/30\n",
            "10/10 [==============================] - 259s 26s/step - loss: 0.0656 - dice_coef: 0.9607\n",
            "Epoch 27/30\n",
            "10/10 [==============================] - 258s 26s/step - loss: 0.0725 - dice_coef: 0.9589\n",
            "Epoch 28/30\n",
            "10/10 [==============================] - 259s 26s/step - loss: 0.0632 - dice_coef: 0.9621\n",
            "Epoch 29/30\n",
            "10/10 [==============================] - 260s 26s/step - loss: 0.0783 - dice_coef: 0.9534\n",
            "Epoch 30/30\n",
            "10/10 [==============================] - 258s 26s/step - loss: 0.0629 - dice_coef: 0.9623\n"
          ],
          "name": "stdout"
        }
      ]
    },
    {
      "cell_type": "code",
      "metadata": {
        "id": "WFXHxYfgB9JB",
        "colab_type": "code",
        "outputId": "57b6d16f-38d8-42ec-cf69-c0075c0a7f04",
        "colab": {
          "base_uri": "https://localhost:8080/",
          "height": 35
        }
      },
      "source": [
        "predM3 = modelM3.predict(xTrain)\n",
        "print(predM3.shape)"
      ],
      "execution_count": 0,
      "outputs": [
        {
          "output_type": "stream",
          "text": [
            "(10, 352, 480, 3)\n"
          ],
          "name": "stdout"
        }
      ]
    },
    {
      "cell_type": "code",
      "metadata": {
        "id": "C5EM5dgwCDmi",
        "colab_type": "code",
        "colab": {}
      },
      "source": [
        "outM3 = []\n",
        "\n",
        "for pr in predM3:\n",
        "  currPr = pr.copy()\n",
        "  currMatr = []\n",
        "  for i in range(currPr.shape[0]):\n",
        "    currStr = []\n",
        "    for j in range(currPr.shape[1]):\n",
        "      currStr.append(index2Color(np.argmax(currPr[i][j])))\n",
        "    currMatr.append(currStr)\n",
        "  outM3.append(currMatr)\n",
        "  \n",
        "outM3 = np.array(outM3)\n",
        "outM3 = outM3.astype('uint8')"
      ],
      "execution_count": 0,
      "outputs": []
    },
    {
      "cell_type": "code",
      "metadata": {
        "id": "Gbx4R3LhCO9R",
        "colab_type": "code",
        "outputId": "323d1b8d-502c-4803-f954-5060a79a0d50",
        "colab": {
          "base_uri": "https://localhost:8080/",
          "height": 521
        }
      },
      "source": [
        "n = 5\n",
        "img = Image.fromarray(outY3[n])\n",
        "plt.imshow(img.convert('RGBA'))\n",
        "plt.show()\n",
        "img = Image.fromarray(outM3[n])\n",
        "plt.imshow(img.convert('RGBA'))\n",
        "plt.show()"
      ],
      "execution_count": 0,
      "outputs": [
        {
          "output_type": "display_data",
          "data": {
            "image/png": "[encoded data removed]",
            "text/plain": [
              "<Figure size 432x288 with 1 Axes>"
            ]
          },
          "metadata": {
            "tags": []
          }
        },
        {
          "output_type": "display_data",
          "data": {
            "image/png": "[encoded data removed]",
            "text/plain": [
              "<Figure size 432x288 with 1 Axes>"
            ]
          },
          "metadata": {
            "tags": []
          }
        }
      ]
    }
  ]
}